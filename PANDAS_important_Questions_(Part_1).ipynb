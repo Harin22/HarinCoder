{
  "nbformat": 4,
  "nbformat_minor": 0,
  "metadata": {
    "colab": {
      "provenance": [],
      "authorship_tag": "ABX9TyNWG0KLz96Owu8BHHyOwSCq",
      "include_colab_link": true
    },
    "kernelspec": {
      "name": "python3",
      "display_name": "Python 3"
    },
    "language_info": {
      "name": "python"
    }
  },
  "cells": [
    {
      "cell_type": "markdown",
      "metadata": {
        "id": "view-in-github",
        "colab_type": "text"
      },
      "source": [
        "<a href=\"https://colab.research.google.com/github/HarinCoder/HarinCoder/blob/main/PANDAS_important_Questions_(Part_1).ipynb\" target=\"_parent\"><img src=\"https://colab.research.google.com/assets/colab-badge.svg\" alt=\"Open In Colab\"/></a>"
      ]
    },
    {
      "cell_type": "markdown",
      "source": [
        "Write a Pandas program to create and display a one-dimensional array-like object containing an array of data using Pandas module."
      ],
      "metadata": {
        "id": "-bZ_sqzhPkm9"
      }
    },
    {
      "cell_type": "markdown",
      "source": [],
      "metadata": {
        "id": "knkdKTDfRDsD"
      }
    },
    {
      "cell_type": "code",
      "execution_count": 1,
      "metadata": {
        "colab": {
          "base_uri": "https://localhost:8080/"
        },
        "id": "hwUEhRNaPc_V",
        "outputId": "235556a0-9b18-4f16-c42a-903ee55ad447"
      },
      "outputs": [
        {
          "output_type": "stream",
          "name": "stdout",
          "text": [
            "0    5\n",
            "1    3\n",
            "2    8\n",
            "3    4\n",
            "4    2\n",
            "dtype: int64\n"
          ]
        }
      ],
      "source": [
        "import pandas as pd\n",
        "\n",
        "data = pd.Series([5, 3, 8, 4, 2])\n",
        "\n",
        "# Display the data\n",
        "print(data)\n"
      ]
    },
    {
      "cell_type": "markdown",
      "source": [
        "2.Write a Pandas program to convert a Panda module Series to Python list and it's type.\n"
      ],
      "metadata": {
        "id": "mIlgJ0DWQHmD"
      }
    },
    {
      "cell_type": "code",
      "source": [
        "import pandas as pd\n",
        "\n",
        "i = pd.Series([1,2,3,4,5])\n",
        "\n",
        "lst = i.tolist()\n",
        "\n",
        "print(lst)\n",
        "print(type(lst))\n"
      ],
      "metadata": {
        "colab": {
          "base_uri": "https://localhost:8080/"
        },
        "id": "TY4SSZ5WQKlj",
        "outputId": "2478d84a-d3fd-4a34-8e8d-59bcf2526da2"
      },
      "execution_count": 9,
      "outputs": [
        {
          "output_type": "stream",
          "name": "stdout",
          "text": [
            "[1, 2, 3, 4, 5]\n",
            "<class 'list'>\n"
          ]
        }
      ]
    },
    {
      "cell_type": "markdown",
      "source": [
        "3.Write a Pandas program to add, subtract, multiple and divide two Pandas Series.\n"
      ],
      "metadata": {
        "id": "Y3nbshvzUdkM"
      }
    },
    {
      "cell_type": "code",
      "source": [
        "import pandas as pd\n",
        "\n",
        "i = pd.Series([1,2,3,4,5])\n",
        "j = pd.Series([6,7,8,9,10])\n",
        "\n",
        "a = (i+j)\n",
        "print(a)\n",
        "\n",
        "b = (i-j)\n",
        "print(b)\n",
        "\n",
        "c = (i * j)\n",
        "print(c)\n",
        "\n",
        "d = (i % j)\n",
        "print(d)"
      ],
      "metadata": {
        "colab": {
          "base_uri": "https://localhost:8080/"
        },
        "id": "Hwn9P48KUfeG",
        "outputId": "9a0d5310-3744-4005-d0f3-700600af1302"
      },
      "execution_count": 7,
      "outputs": [
        {
          "output_type": "stream",
          "name": "stdout",
          "text": [
            "0     7\n",
            "1     9\n",
            "2    11\n",
            "3    13\n",
            "4    15\n",
            "dtype: int64\n",
            "0   -5\n",
            "1   -5\n",
            "2   -5\n",
            "3   -5\n",
            "4   -5\n",
            "dtype: int64\n",
            "0     6\n",
            "1    14\n",
            "2    24\n",
            "3    36\n",
            "4    50\n",
            "dtype: int64\n",
            "0    1\n",
            "1    2\n",
            "2    3\n",
            "3    4\n",
            "4    5\n",
            "dtype: int64\n"
          ]
        }
      ]
    },
    {
      "cell_type": "markdown",
      "source": [
        "4.Write a Pandas program to compare the elements of the two Pandas Series.\n"
      ],
      "metadata": {
        "id": "M3s2NIjUWINN"
      }
    },
    {
      "cell_type": "code",
      "source": [
        "import pandas as pd\n",
        "\n",
        "p= pd.Series([10, 20, 30, 40, 50])\n",
        "o = pd.Series([10, 30, 20, 40, 50])\n",
        "\n",
        "print(\"are they equal?: \", p.equals(o))"
      ],
      "metadata": {
        "id": "K9vCEszuWI9T",
        "outputId": "e605d530-c274-4e37-95db-83b17002a07a",
        "colab": {
          "base_uri": "https://localhost:8080/"
        }
      },
      "execution_count": 8,
      "outputs": [
        {
          "output_type": "stream",
          "name": "stdout",
          "text": [
            "are they equal?:  False\n"
          ]
        }
      ]
    },
    {
      "cell_type": "markdown",
      "source": [
        "5.Write a Pandas program to convert a dictionary to a Pandas series. \n"
      ],
      "metadata": {
        "id": "25Rvh_ERYsCZ"
      }
    },
    {
      "cell_type": "code",
      "source": [
        "import pandas as pd\n",
        "\n",
        "i = { \"name\": \"harin\",\n",
        "      \"age\" : 23,\n",
        "      \"job\" : \"machine learning engineer\"\n",
        "       }\n",
        "\n",
        "k = pd.Series(i)\n",
        "print(k)\n"
      ],
      "metadata": {
        "id": "xsxXLgIYYs4N",
        "outputId": "47098ca2-6acc-4252-9e95-a40b150a00ef",
        "colab": {
          "base_uri": "https://localhost:8080/"
        }
      },
      "execution_count": 10,
      "outputs": [
        {
          "output_type": "stream",
          "name": "stdout",
          "text": [
            "name                        harin\n",
            "age                            23\n",
            "job     machine learning engineer\n",
            "dtype: object\n"
          ]
        }
      ]
    },
    {
      "cell_type": "markdown",
      "source": [],
      "metadata": {
        "id": "HJVlqIiXXFNc"
      }
    }
  ]
}