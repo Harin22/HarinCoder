{
  "nbformat": 4,
  "nbformat_minor": 0,
  "metadata": {
    "colab": {
      "provenance": [],
      "authorship_tag": "ABX9TyPwb7zZjZug0kD/IVLG0fVw",
      "include_colab_link": true
    },
    "kernelspec": {
      "name": "python3",
      "display_name": "Python 3"
    },
    "language_info": {
      "name": "python"
    }
  },
  "cells": [
    {
      "cell_type": "markdown",
      "metadata": {
        "id": "view-in-github",
        "colab_type": "text"
      },
      "source": [
        "<a href=\"https://colab.research.google.com/github/HarinCoder/HarinCoder/blob/main/Pandas_important_question_(part_2).ipynb\" target=\"_parent\"><img src=\"https://colab.research.google.com/assets/colab-badge.svg\" alt=\"Open In Colab\"/></a>"
      ]
    },
    {
      "cell_type": "markdown",
      "source": [
        "Write a Pandas program to convert a NumPy array to a Pandas series.\n"
      ],
      "metadata": {
        "id": "Cw2xyQZNKj4T"
      }
    },
    {
      "cell_type": "code",
      "execution_count": 2,
      "metadata": {
        "colab": {
          "base_uri": "https://localhost:8080/"
        },
        "id": "ZvziXAj5KOsN",
        "outputId": "0767ed4e-5520-4733-aab1-e0958b071d90"
      },
      "outputs": [
        {
          "output_type": "stream",
          "name": "stdout",
          "text": [
            "0    1\n",
            "1    2\n",
            "2    3\n",
            "3    4\n",
            "4    5\n",
            "dtype: int64\n"
          ]
        }
      ],
      "source": [
        "import numpy as np\n",
        "import pandas as pd\n",
        "\n",
        "arr = np.array([1,2,3,4,5])\n",
        "\n",
        "i = pd.Series(arr)\n",
        "\n",
        "print(i)"
      ]
    },
    {
      "cell_type": "markdown",
      "source": [
        "Write a Pandas program to change the data type of given a column or a Series. \n"
      ],
      "metadata": {
        "id": "WMHVjNntLGQV"
      }
    },
    {
      "cell_type": "code",
      "source": [
        "import numpy as np\n",
        "import pandas as pd\n",
        "\n",
        "# create a sample DataFrame\n",
        "df = pd.DataFrame({'A': [1, 2, 3], 'B': [4.5, 5.6, 6.7], 'C': ['x', 'y', 'z']})\n",
        "print(\"Original DataFrame:\\n\", df)\n",
        "\n",
        "# change data type of column 'A' from integer to float\n",
        "df['A'] = df['A'].astype(float)\n",
        "print(\"\\nDataFrame after changing data type of column 'A':\\n\", df)\n",
        "\n",
        "# change data type of column 'B' from float to integer\n",
        "df['B'] = df['B'].astype(int)\n",
        "print(\"\\nDataFrame after changing data type of column 'B':\\n\", df)\n",
        "\n",
        "# change data type of column 'C' from string to category\n",
        "df['C'] = df['C'].astype('category')\n",
        "print(\"\\nDataFrame after changing data type of column 'C':\\n\", df)\n"
      ],
      "metadata": {
        "colab": {
          "base_uri": "https://localhost:8080/"
        },
        "id": "djH7BlmpLIDm",
        "outputId": "c13b500f-2665-4da9-a2ed-9f2bbaa2a2ae"
      },
      "execution_count": 1,
      "outputs": [
        {
          "output_type": "stream",
          "name": "stdout",
          "text": [
            "Original DataFrame:\n",
            "    A    B  C\n",
            "0  1  4.5  x\n",
            "1  2  5.6  y\n",
            "2  3  6.7  z\n",
            "\n",
            "DataFrame after changing data type of column 'A':\n",
            "      A    B  C\n",
            "0  1.0  4.5  x\n",
            "1  2.0  5.6  y\n",
            "2  3.0  6.7  z\n",
            "\n",
            "DataFrame after changing data type of column 'B':\n",
            "      A  B  C\n",
            "0  1.0  4  x\n",
            "1  2.0  5  y\n",
            "2  3.0  6  z\n",
            "\n",
            "DataFrame after changing data type of column 'C':\n",
            "      A  B  C\n",
            "0  1.0  4  x\n",
            "1  2.0  5  y\n",
            "2  3.0  6  z\n"
          ]
        }
      ]
    },
    {
      "cell_type": "markdown",
      "source": [
        "Write a Pandas program to convert the first column of a DataFrame as a Series."
      ],
      "metadata": {
        "id": "67dmbWsRe9m_"
      }
    },
    {
      "cell_type": "code",
      "source": [
        "import numpy as np\n",
        "\n",
        "\n",
        "data = {'Name': ['John', 'Emma', 'Mike', 'Sarah'], 'Age': [28, 25, 32, 30], 'City': ['New York', 'London', 'Paris', 'Sydney']}\n",
        "f = pd.DataFrame(data)\n",
        "\n",
        "series = f.iloc[:, 0]\n",
        "\n",
        "print(series)\n"
      ],
      "metadata": {
        "colab": {
          "base_uri": "https://localhost:8080/"
        },
        "id": "JcxAC7xmfnZu",
        "outputId": "6c8ca791-4677-40fa-d645-aada00081c0f"
      },
      "execution_count": 3,
      "outputs": [
        {
          "output_type": "stream",
          "name": "stdout",
          "text": [
            "0     John\n",
            "1     Emma\n",
            "2     Mike\n",
            "3    Sarah\n",
            "Name: Name, dtype: object\n"
          ]
        }
      ]
    },
    {
      "cell_type": "markdown",
      "source": [
        "Write a Pandas program to convert a given Series to an array. "
      ],
      "metadata": {
        "id": "fajjxeIYgLCu"
      }
    },
    {
      "cell_type": "code",
      "source": [
        "import numpy as np\n",
        "\n",
        "ser = pd.Series([1,2,3,4,5])\n",
        "print(ser)\n",
        "\n",
        "arr = ser.to_numpy()\n",
        "print(arr)\n"
      ],
      "metadata": {
        "colab": {
          "base_uri": "https://localhost:8080/"
        },
        "id": "x8QO1f5lgPpX",
        "outputId": "b55613f3-fce0-4caa-9dae-d27a4207b923"
      },
      "execution_count": 4,
      "outputs": [
        {
          "output_type": "stream",
          "name": "stdout",
          "text": [
            "0    1\n",
            "1    2\n",
            "2    3\n",
            "3    4\n",
            "4    5\n",
            "dtype: int64\n",
            "[1 2 3 4 5]\n"
          ]
        }
      ]
    },
    {
      "cell_type": "markdown",
      "source": [
        "Write a Pandas program to convert Series of lists to one Series.\n"
      ],
      "metadata": {
        "id": "YGfzd4mIkg4_"
      }
    },
    {
      "cell_type": "code",
      "source": [
        "import numpy as np\n",
        "\n",
        "l1 = [1,2,3,4,5,6]\n",
        "l2 = [7,8,9,10,11,12]\n",
        "\n",
        "ser = pd.Series(l1,l2)\n",
        "print(ser) "
      ],
      "metadata": {
        "colab": {
          "base_uri": "https://localhost:8080/"
        },
        "id": "383EO9KrkhjG",
        "outputId": "c60831f2-b56b-4f29-b4e3-d4aad834aa4b"
      },
      "execution_count": 5,
      "outputs": [
        {
          "output_type": "stream",
          "name": "stdout",
          "text": [
            "7     1\n",
            "8     2\n",
            "9     3\n",
            "10    4\n",
            "11    5\n",
            "12    6\n",
            "dtype: int64\n"
          ]
        }
      ]
    },
    {
      "cell_type": "markdown",
      "source": [
        "11.Write a Pandas program to sort a given Series.\n"
      ],
      "metadata": {
        "id": "m7QlUknqlBlm"
      }
    },
    {
      "cell_type": "code",
      "source": [
        "import pandas as pd\n",
        "\n",
        "s = pd.Series([1, 3, 5, 2, 4])\n",
        "\n",
        "s_sorted = s.sort_values()\n",
        "print(s_sorted)\n"
      ],
      "metadata": {
        "colab": {
          "base_uri": "https://localhost:8080/"
        },
        "id": "2pIVD401lG6m",
        "outputId": "864b0602-8e36-49cf-dfd0-ee6f66cf04e0"
      },
      "execution_count": 6,
      "outputs": [
        {
          "output_type": "stream",
          "name": "stdout",
          "text": [
            "0    1\n",
            "3    2\n",
            "1    3\n",
            "4    4\n",
            "2    5\n",
            "dtype: int64\n"
          ]
        }
      ]
    },
    {
      "cell_type": "markdown",
      "source": [
        "12.Write a Pandas program to add some data to an existing Series.\n"
      ],
      "metadata": {
        "id": "-Hh_-6KclTj-"
      }
    },
    {
      "cell_type": "code",
      "source": [
        "import pandas as pd\n",
        "\n",
        "fruits = pd.Series(['apple', 'banana', 'cherry'])\n",
        "print(\"Initial Series:\\n\", fruits)\n",
        "\n",
        "fruits = fruits.append(pd.Series(['orange', 'grape']))\n",
        "print(\"\\nUpdated Series:\\n\", fruits)\n"
      ],
      "metadata": {
        "colab": {
          "base_uri": "https://localhost:8080/"
        },
        "id": "s91hvBEClUfP",
        "outputId": "b4704e7e-cdc9-46a4-e65a-89c85e6abf20"
      },
      "execution_count": 7,
      "outputs": [
        {
          "output_type": "stream",
          "name": "stdout",
          "text": [
            "Initial Series:\n",
            " 0     apple\n",
            "1    banana\n",
            "2    cherry\n",
            "dtype: object\n",
            "\n",
            "Updated Series:\n",
            " 0     apple\n",
            "1    banana\n",
            "2    cherry\n",
            "0    orange\n",
            "1     grape\n",
            "dtype: object\n"
          ]
        },
        {
          "output_type": "stream",
          "name": "stderr",
          "text": [
            "<ipython-input-7-f7fa632a7784>:6: FutureWarning: The series.append method is deprecated and will be removed from pandas in a future version. Use pandas.concat instead.\n",
            "  fruits = fruits.append(pd.Series(['orange', 'grape']))\n"
          ]
        }
      ]
    },
    {
      "cell_type": "markdown",
      "source": [
        "Write a Pandas program to create a subset of a given series based on value and condition."
      ],
      "metadata": {
        "id": "embOXRaaocQX"
      }
    },
    {
      "cell_type": "code",
      "source": [
        "import pandas as pd\n",
        "\n",
        "# create a sample series\n",
        "s = pd.Series([10, 20, 30, 40, 50, 60])\n",
        "\n",
        "subset = s[s > 30]\n",
        "print(subset)\n"
      ],
      "metadata": {
        "colab": {
          "base_uri": "https://localhost:8080/"
        },
        "id": "kjqS1iGGoeGn",
        "outputId": "5d24abcc-b648-40bf-eb07-8e78e9ec32bb"
      },
      "execution_count": 8,
      "outputs": [
        {
          "output_type": "stream",
          "name": "stdout",
          "text": [
            "3    40\n",
            "4    50\n",
            "5    60\n",
            "dtype: int64\n"
          ]
        }
      ]
    }
  ]
}