{
  "nbformat": 4,
  "nbformat_minor": 0,
  "metadata": {
    "colab": {
      "provenance": [],
      "authorship_tag": "ABX9TyMIaM3eNLpm7PFzH3kvdXgV",
      "include_colab_link": true
    },
    "kernelspec": {
      "name": "python3",
      "display_name": "Python 3"
    },
    "language_info": {
      "name": "python"
    }
  },
  "cells": [
    {
      "cell_type": "markdown",
      "metadata": {
        "id": "view-in-github",
        "colab_type": "text"
      },
      "source": [
        "<a href=\"https://colab.research.google.com/github/HarinCoder/HarinCoder/blob/main/2023_Corona_Case_Tracking_A_Web_Scraping_Project_Using_Google_Collaboratory.ipynb\" target=\"_parent\"><img src=\"https://colab.research.google.com/assets/colab-badge.svg\" alt=\"Open In Colab\"/></a>"
      ]
    },
    {
      "cell_type": "markdown",
      "source": [
        "1 : \n",
        "Extract and Analyze COVID-19 Data from Multiple Sources on the Web for Web Scraping Project."
      ],
      "metadata": {
        "id": "5qCctR2_LkoG"
      }
    },
    {
      "cell_type": "code",
      "source": [
        "\n",
        "import requests\n",
        "from bs4 import BeautifulSoup\n",
        "import pandas as pd\n",
        "import re\n",
        "\n",
        "i = requests.get(\"https://prsindia.org/covid-19/cases\")\n",
        "j=i.content\n",
        "doc= BeautifulSoup(j,\"lxml\")\n",
        "doc\n",
        "\n",
        "table = doc.find_all(\"table\")\n",
        "ta = table[0]\n",
        "ta\n"
      ],
      "metadata": {
        "id": "jfqc_AbtLp2V"
      },
      "execution_count": null,
      "outputs": []
    },
    {
      "cell_type": "markdown",
      "source": [
        "\"Extracting the First Table from HTML using BeautifulSoup in Python\"\n",
        "\n",
        "\n",
        "\n"
      ],
      "metadata": {
        "id": "mprW-sEZ5di2"
      }
    },
    {
      "cell_type": "code",
      "source": [
        "table = doc.find_all(\"table\")\n",
        "ta = table[0]\n",
        "ta"
      ],
      "metadata": {
        "id": "tgalIDFn31gA"
      },
      "execution_count": null,
      "outputs": []
    },
    {
      "cell_type": "markdown",
      "source": [
        "\"Checking the Header of a Table Extracted from HTML using BeautifulSoup in Python\"\n",
        "\n",
        "\n",
        "\n"
      ],
      "metadata": {
        "id": "vH6xaeFI5tSn"
      }
    },
    {
      "cell_type": "code",
      "source": [
        "ta.find(\"th\").get_text()== \"#\""
      ],
      "metadata": {
        "id": "LHhmpC9Z37y3"
      },
      "execution_count": null,
      "outputs": []
    },
    {
      "cell_type": "markdown",
      "source": [
        "\"Converting HTML Table into Pandas DataFrame using read_html in Python\"\n",
        "\n",
        "\n",
        "\n"
      ],
      "metadata": {
        "id": "FrD-01No5vw2"
      }
    },
    {
      "cell_type": "code",
      "source": [
        "from pandas.io.formats.style_render import DataFrame\n",
        "df = pd.read_html(str(ta))\n",
        "df1 = pd.DataFrame(df[0])\n",
        "df1"
      ],
      "metadata": {
        "id": "qERsgw1P4AGv"
      },
      "execution_count": null,
      "outputs": []
    },
    {
      "cell_type": "code",
      "source": [
        "df1.info()"
      ],
      "metadata": {
        "id": "M8CKiwhn4SuA"
      },
      "execution_count": null,
      "outputs": []
    }
  ]
}