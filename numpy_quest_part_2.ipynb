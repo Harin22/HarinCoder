{
  "nbformat": 4,
  "nbformat_minor": 0,
  "metadata": {
    "colab": {
      "provenance": [],
      "authorship_tag": "ABX9TyOVX+aR5DPExVz8O5KLg4Q6",
      "include_colab_link": true
    },
    "kernelspec": {
      "name": "python3",
      "display_name": "Python 3"
    },
    "language_info": {
      "name": "python"
    }
  },
  "cells": [
    {
      "cell_type": "markdown",
      "metadata": {
        "id": "view-in-github",
        "colab_type": "text"
      },
      "source": [
        "<a href=\"https://colab.research.google.com/github/HarinCoder/HarinCoder/blob/main/numpy_quest_part_2.ipynb\" target=\"_parent\"><img src=\"https://colab.research.google.com/assets/colab-badge.svg\" alt=\"Open In Colab\"/></a>"
      ]
    },
    {
      "cell_type": "markdown",
      "source": [
        " get the common items between c and d array\n"
      ],
      "metadata": {
        "id": "hRSmrGwLk9I2"
      }
    },
    {
      "cell_type": "code",
      "execution_count": null,
      "metadata": {
        "colab": {
          "base_uri": "https://localhost:8080/"
        },
        "id": "kwVPjJGakV1K",
        "outputId": "68ccfddb-08b6-4226-b749-8ad7807cc3e3"
      },
      "outputs": [
        {
          "output_type": "stream",
          "name": "stdout",
          "text": [
            "[4 5]\n"
          ]
        }
      ],
      "source": [
        "import numpy as np\n",
        "\n",
        "c = np.array([1, 2, 3, 4, 5])\n",
        "d = np.array([4, 5, 6, 7, 8])\n",
        "\n",
        "common_items = np.intersect1d(c, d)\n",
        "print(common_items)\n"
      ]
    },
    {
      "cell_type": "markdown",
      "source": [
        "from array c remove all items present in array d\n"
      ],
      "metadata": {
        "id": "C8B9brQywibQ"
      }
    },
    {
      "cell_type": "code",
      "source": [
        "import numpy as np\n",
        "\n",
        "c = np.array([1, 2, 3, 4, 5])\n",
        "d = np.array([3, 4, 5, 6, 7])\n",
        "\n",
        "c = np.setdiff1d(c, d)\n",
        "\n",
        "print(c)  # Output: [1 2]\n"
      ],
      "metadata": {
        "colab": {
          "base_uri": "https://localhost:8080/"
        },
        "id": "qoHba3GCwoGw",
        "outputId": "3ecd35a0-77b5-4ec1-e4e7-09cd5dddd070"
      },
      "execution_count": null,
      "outputs": [
        {
          "output_type": "stream",
          "name": "stdout",
          "text": [
            "[1 2]\n"
          ]
        }
      ]
    },
    {
      "cell_type": "markdown",
      "source": [
        "get the postions where elements of c and d match"
      ],
      "metadata": {
        "id": "-jIfMPw8w7FJ"
      }
    },
    {
      "cell_type": "code",
      "source": [
        "import numpy as np\n",
        "\n",
        "c = np.array([1, 2, 3, 4, 5])\n",
        "d = np.array([3, 2, 3, 0, 6])\n",
        "\n",
        "match_positions = np.where(c == d)[0]\n",
        "print(match_positions)\n"
      ],
      "metadata": {
        "colab": {
          "base_uri": "https://localhost:8080/"
        },
        "id": "-zYWSXnIw8Zr",
        "outputId": "4e97327c-f2a0-4ed6-a975-d42c451c9bbd"
      },
      "execution_count": null,
      "outputs": [
        {
          "output_type": "stream",
          "name": "stdout",
          "text": [
            "[1 2]\n"
          ]
        }
      ]
    },
    {
      "cell_type": "markdown",
      "source": [
        "get all items between 5 and 10 from array "
      ],
      "metadata": {
        "id": "t0P_NmPsxzTx"
      }
    },
    {
      "cell_type": "code",
      "source": [
        "import numpy as np\n",
        "\n",
        "# create the array\n",
        "arr = np.array([1, 2, 3, 4, 5, 6, 7, 8, 9, 10, 11, 12])\n",
        "\n",
        "result = arr[(arr >= 5) & (arr <= 10)]\n",
        "\n",
        "# print the result\n",
        "print(result)\n"
      ],
      "metadata": {
        "colab": {
          "base_uri": "https://localhost:8080/"
        },
        "id": "5xNm5saLx0bQ",
        "outputId": "c858903f-4f2a-48e1-9513-8adf78826a26"
      },
      "execution_count": null,
      "outputs": [
        {
          "output_type": "stream",
          "name": "stdout",
          "text": [
            "[ 5  6  7  8  9 10]\n"
          ]
        }
      ]
    },
    {
      "cell_type": "markdown",
      "source": [
        "how to make a python function that handles scalare to work on numpy arrays and convert function maxx that works on two scalars to work on two arrays"
      ],
      "metadata": {
        "id": "W8k60cw-__uS"
      }
    },
    {
      "cell_type": "code",
      "source": [
        "import numpy as np\n",
        "\n",
        "def maxx(x, y):\n",
        "    if x > y:\n",
        "        return x\n",
        "    else:\n",
        "        return y\n",
        "\n",
        "# New function that works on arrays using NumPy's maximum function\n",
        "def maxx_arr(x_arr, y_arr):\n",
        "    return np.maximum(x_arr, y_arr)\n",
        "\n",
        "# Example usage with NumPy arrays\n",
        "arr1 = np.array([1, 2, 3, 4])\n",
        "arr2 = np.array([3, 2, 1, 5])\n",
        "result = maxx_arr(arr1, arr2)\n",
        "print(result)\n"
      ],
      "metadata": {
        "colab": {
          "base_uri": "https://localhost:8080/"
        },
        "id": "5TV2wM4KACOz",
        "outputId": "b87f9498-1b3d-42d6-d79f-1e392f7bc567"
      },
      "execution_count": null,
      "outputs": [
        {
          "output_type": "stream",
          "name": "stdout",
          "text": [
            "[3 2 3 5]\n"
          ]
        }
      ]
    },
    {
      "cell_type": "markdown",
      "source": [
        " swap columns 1 and 2 in the array\n"
      ],
      "metadata": {
        "id": "1L6LP41cBOgZ"
      }
    },
    {
      "cell_type": "code",
      "source": [
        "import numpy as np\n",
        "\n",
        "# Create a 2D array with 3 rows and 4 columns\n",
        "arr = np.array([[1, 2, 3, 4], [5, 6, 7, 8], [9, 10, 11, 12]])\n",
        "\n",
        "# Swap columns 1 and 2\n",
        "arr[:,[1,0]] = arr[:,[0,1]]\n",
        "# Print the resulting array\n",
        "print(arr)\n"
      ],
      "metadata": {
        "colab": {
          "base_uri": "https://localhost:8080/"
        },
        "id": "PsRsfbKfBQpi",
        "outputId": "acc38ec2-a8ac-4887-ebc8-048f76233ffc"
      },
      "execution_count": 3,
      "outputs": [
        {
          "output_type": "stream",
          "name": "stdout",
          "text": [
            "[[ 2  1  3  4]\n",
            " [ 6  5  7  8]\n",
            " [10  9 11 12]]\n"
          ]
        }
      ]
    },
    {
      "cell_type": "markdown",
      "source": [
        " swap rows 1 and 2 in the array\n"
      ],
      "metadata": {
        "id": "9J74SyzTEje2"
      }
    },
    {
      "cell_type": "code",
      "source": [
        "arr = np.array([[1, 2, 3, 4], [5, 6, 7, 8], [9, 10, 11, 12], [13,14,15,16]])\n",
        "\n",
        "arr[[0,2,1,3], :]\n",
        "print(arr)"
      ],
      "metadata": {
        "colab": {
          "base_uri": "https://localhost:8080/"
        },
        "id": "AwlVw6TjElRA",
        "outputId": "2c8c5f8e-6787-41f3-f787-0c495ee6bd76"
      },
      "execution_count": 7,
      "outputs": [
        {
          "output_type": "stream",
          "name": "stdout",
          "text": [
            "[[ 1  2  3  4]\n",
            " [ 5  6  7  8]\n",
            " [ 9 10 11 12]\n",
            " [13 14 15 16]]\n"
          ]
        }
      ]
    },
    {
      "cell_type": "markdown",
      "source": [
        " reverse the rows of 2d array\n"
      ],
      "metadata": {
        "id": "VpfXH49iFqQb"
      }
    },
    {
      "cell_type": "code",
      "source": [
        "arr = np.array([[1, 2, 3, 4], [5, 6, 7, 8], [9, 10, 11, 12], [13,14,15,16]])\n",
        "array_reverse = np.flip(arr, axis=0)\n",
        "print(array_reverse)"
      ],
      "metadata": {
        "colab": {
          "base_uri": "https://localhost:8080/"
        },
        "id": "ZfGdf38DFrJT",
        "outputId": "015532f5-e3b8-4d5a-c1c2-7f657fd29657"
      },
      "execution_count": 13,
      "outputs": [
        {
          "output_type": "stream",
          "name": "stdout",
          "text": [
            "[[13 14 15 16]\n",
            " [ 9 10 11 12]\n",
            " [ 5  6  7  8]\n",
            " [ 1  2  3  4]]\n"
          ]
        }
      ]
    },
    {
      "cell_type": "markdown",
      "source": [
        " reverse the columns of a 2d array\n"
      ],
      "metadata": {
        "id": "iWACv1D-HHbf"
      }
    },
    {
      "cell_type": "code",
      "source": [
        "import numpy as np\n",
        "\n",
        "arr = np.array([[1, 2, 3], [4, 5, 6], [7, 8, 9]])\n",
        "print(\"Original array:\\n\", arr)\n",
        "\n",
        "reversed_arr = arr[:, ::-1]\n",
        "print(\"Reversed columns:\\n\", reversed_arr)\n"
      ],
      "metadata": {
        "colab": {
          "base_uri": "https://localhost:8080/"
        },
        "id": "KwVJn2ixHMa9",
        "outputId": "aec96bdf-c4ca-4794-e108-808d79b010e7"
      },
      "execution_count": 17,
      "outputs": [
        {
          "output_type": "stream",
          "name": "stdout",
          "text": [
            "Original array:\n",
            " [[1 2 3]\n",
            " [4 5 6]\n",
            " [7 8 9]]\n",
            "Reversed columns:\n",
            " [[3 2 1]\n",
            " [6 5 4]\n",
            " [9 8 7]]\n"
          ]
        }
      ]
    },
    {
      "cell_type": "markdown",
      "source": [
        " create a 2d array of shape 5x3 to contain random decimal numbers between 5 and 10\n"
      ],
      "metadata": {
        "id": "HFqdGEGSIuX_"
      }
    },
    {
      "cell_type": "code",
      "source": [
        "import numpy as np\n",
        "\n",
        "arr = np.random.uniform(low= 5.0, high=10.0,size =(5,4))\n",
        "print(arr)\n",
        " "
      ],
      "metadata": {
        "colab": {
          "base_uri": "https://localhost:8080/"
        },
        "id": "84B0WlikIwfS",
        "outputId": "115f97b8-09cd-4cc1-c0d0-1a1d0ad3bbd2"
      },
      "execution_count": 18,
      "outputs": [
        {
          "output_type": "stream",
          "name": "stdout",
          "text": [
            "[[9.80356268 7.32963692 9.35956841 5.58651037]\n",
            " [6.43109237 6.77321915 5.14818901 7.21863419]\n",
            " [5.42303762 9.2660685  7.23914423 9.03980889]\n",
            " [8.04851635 9.08194483 8.76246563 5.75751817]\n",
            " [6.92005858 7.84131826 5.15619921 7.96622647]]\n"
          ]
        }
      ]
    }
  ]
}