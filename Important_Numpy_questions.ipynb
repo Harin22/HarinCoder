{
  "nbformat": 4,
  "nbformat_minor": 0,
  "metadata": {
    "colab": {
      "provenance": [],
      "authorship_tag": "ABX9TyOlsON+/lW8Fl7TYZChubhE",
      "include_colab_link": true
    },
    "kernelspec": {
      "name": "python3",
      "display_name": "Python 3"
    },
    "language_info": {
      "name": "python"
    }
  },
  "cells": [
    {
      "cell_type": "markdown",
      "metadata": {
        "id": "view-in-github",
        "colab_type": "text"
      },
      "source": [
        "<a href=\"https://colab.research.google.com/github/HarinCoder/HarinCoder/blob/main/Important_Numpy_questions.ipynb\" target=\"_parent\"><img src=\"https://colab.research.google.com/assets/colab-badge.svg\" alt=\"Open In Colab\"/></a>"
      ]
    },
    {
      "cell_type": "markdown",
      "source": [
        " 1. import numpy as np and see the version\n"
      ],
      "metadata": {
        "id": "aVChr5BCGvBo"
      }
    },
    {
      "cell_type": "code",
      "execution_count": null,
      "metadata": {
        "colab": {
          "base_uri": "https://localhost:8080/"
        },
        "id": "Jo7eGG9MFIbV",
        "outputId": "b4d20b9b-accd-476d-aef5-0e0376d70922"
      },
      "outputs": [
        {
          "output_type": "stream",
          "name": "stdout",
          "text": [
            "1.22.4\n"
          ]
        }
      ],
      "source": [
        "import numpy as np\n",
        "\n",
        "print(np.__version__)\n"
      ]
    },
    {
      "cell_type": "markdown",
      "source": [
        "2. create a 1d array of numbers from 0 to 9\n"
      ],
      "metadata": {
        "id": "nKdaYFoTGyJF"
      }
    },
    {
      "cell_type": "code",
      "source": [
        "import numpy as np\n",
        "\n",
        "i = np.array([1,2,3,4,5,6,7,8,9])\n",
        "print(i)"
      ],
      "metadata": {
        "colab": {
          "base_uri": "https://localhost:8080/"
        },
        "id": "WnhGOZTkG1Bj",
        "outputId": "ca22e3cb-bdca-4bfd-eea1-a482c8344733"
      },
      "execution_count": null,
      "outputs": [
        {
          "output_type": "stream",
          "name": "stdout",
          "text": [
            "[1 2 3 4 5 6 7 8 9]\n"
          ]
        }
      ]
    },
    {
      "cell_type": "markdown",
      "source": [
        "3. create a 3x3 numpy array of all true's\n"
      ],
      "metadata": {
        "id": "dRIhVtrRHCfg"
      }
    },
    {
      "cell_type": "code",
      "source": [
        "import numpy as np\n",
        "\n",
        "i = np.array([1,2,3,4,5,6,7,8,9])\n",
        "k = i.reshape(3,3)\n",
        "print(k)"
      ],
      "metadata": {
        "colab": {
          "base_uri": "https://localhost:8080/"
        },
        "id": "FRCSqaqLHFEu",
        "outputId": "16c15fa4-6060-44de-be30-fa32bafd3d6c"
      },
      "execution_count": null,
      "outputs": [
        {
          "output_type": "stream",
          "name": "stdout",
          "text": [
            "[[1 2 3]\n",
            " [4 5 6]\n",
            " [7 8 9]]\n"
          ]
        }
      ]
    },
    {
      "cell_type": "markdown",
      "source": [
        "4.extract all odd numbers from arr \n"
      ],
      "metadata": {
        "id": "YSB59MTYHRrG"
      }
    },
    {
      "cell_type": "code",
      "source": [
        "import numpy as np\n",
        "\n",
        "i = np.array([1,2,3,4,5,6,7,8,9])\n",
        "j = (i % 2 == 1)\n",
        "odd_nmbrs = i[j]\n",
        "print(odd_nmbrs)\n"
      ],
      "metadata": {
        "colab": {
          "base_uri": "https://localhost:8080/"
        },
        "id": "LM18hND6HTUm",
        "outputId": "4ac90075-79c0-413d-d555-b41831311b0e"
      },
      "execution_count": null,
      "outputs": [
        {
          "output_type": "stream",
          "name": "stdout",
          "text": [
            "[1 3 5 7 9]\n"
          ]
        }
      ]
    },
    {
      "cell_type": "markdown",
      "source": [
        "5. replace all odd numbers in arr with -1\n"
      ],
      "metadata": {
        "id": "TXJKSpJKJn6o"
      }
    },
    {
      "cell_type": "code",
      "source": [
        "import numpy as np\n",
        "\n",
        "arr = np.array([1, 2, 3, 4, 5, 6, 7, 8, 9])\n",
        "\n",
        "arr[arr % 2 != 0] = -1\n",
        "print(arr)\n"
      ],
      "metadata": {
        "colab": {
          "base_uri": "https://localhost:8080/"
        },
        "id": "8umd6crLJtPX",
        "outputId": "66572322-dda8-4baa-f251-16ad034d547a"
      },
      "execution_count": null,
      "outputs": [
        {
          "output_type": "stream",
          "name": "stdout",
          "text": [
            "[-1  2 -1  4 -1  6 -1  8 -1]\n"
          ]
        }
      ]
    },
    {
      "cell_type": "markdown",
      "source": [
        "6. replace all odd numbers in arr with -1 without changing arr\n"
      ],
      "metadata": {
        "id": "AdimIyzEK1X6"
      }
    },
    {
      "cell_type": "code",
      "source": [
        "import numpy as np\n",
        "\n",
        "arr = np.array([1, 2, 3, 4, 5, 6, 7, 8, 9])\n",
        "\n",
        "new_arr = np.where(arr % 2 == 1, -1, arr)\n",
        "print(\"Original Array:\", arr)\n",
        "print(\"New Array:\", new_arr)\n"
      ],
      "metadata": {
        "colab": {
          "base_uri": "https://localhost:8080/"
        },
        "id": "QpemLNvWK37-",
        "outputId": "8b155250-2421-43f0-8693-0fa503bc417c"
      },
      "execution_count": null,
      "outputs": [
        {
          "output_type": "stream",
          "name": "stdout",
          "text": [
            "Original Array: [1 2 3 4 5 6 7 8 9]\n",
            "New Array: [-1  2 -1  4 -1  6 -1  8 -1]\n"
          ]
        }
      ]
    },
    {
      "cell_type": "markdown",
      "source": [
        "7. convert a 1d array to a 2d array with 2 rows\n"
      ],
      "metadata": {
        "id": "M8cYGyppOqHv"
      }
    },
    {
      "cell_type": "code",
      "source": [
        "import numpy as np\n",
        "\n",
        "arr = np.array([1,2,3,4,5,6,7,8])\n",
        "\n",
        "ar2 = arr.reshape(4,2)\n",
        "print(ar2)\n",
        "\n"
      ],
      "metadata": {
        "colab": {
          "base_uri": "https://localhost:8080/"
        },
        "id": "7nW2flnQOq0T",
        "outputId": "8ce2d465-19cf-4370-a0b6-2cf94e912318"
      },
      "execution_count": null,
      "outputs": [
        {
          "output_type": "stream",
          "name": "stdout",
          "text": [
            "[[1 2]\n",
            " [3 4]\n",
            " [5 6]\n",
            " [7 8]]\n"
          ]
        }
      ]
    },
    {
      "cell_type": "markdown",
      "source": [
        "8. how to stack arrays a and b vertically\n"
      ],
      "metadata": {
        "id": "GuGT6aiWPfiA"
      }
    },
    {
      "cell_type": "code",
      "source": [
        "import numpy as np\n",
        "\n",
        "a = np.array([1, 2, 3])\n",
        "b = np.array([4, 5, 6])\n",
        "\n",
        "c = np.vstack((a, b))\n",
        "print(c)\n",
        "\n"
      ],
      "metadata": {
        "colab": {
          "base_uri": "https://localhost:8080/"
        },
        "id": "dCCJH3JSPjIr",
        "outputId": "3cbc8a74-77a8-49c5-a16a-1dd442ce59e5"
      },
      "execution_count": null,
      "outputs": [
        {
          "output_type": "stream",
          "name": "stdout",
          "text": [
            "[[1 2 3]\n",
            " [4 5 6]]\n"
          ]
        }
      ]
    },
    {
      "cell_type": "markdown",
      "source": [
        "9. how to stack arrays a and b horizontally\n"
      ],
      "metadata": {
        "id": "G-nePsnORbgz"
      }
    },
    {
      "cell_type": "code",
      "source": [
        "import numpy as np\n",
        "\n",
        "a = np.array([1, 2, 3])\n",
        "b = np.array([4, 5, 6])\n",
        "\n",
        "c = np.hstack((a, b))\n",
        "print(c)\n",
        "\n"
      ],
      "metadata": {
        "colab": {
          "base_uri": "https://localhost:8080/"
        },
        "id": "3a9jMMWkRcSV",
        "outputId": "b6ca3688-317c-4527-f4f7-da0a4202a6d0"
      },
      "execution_count": null,
      "outputs": [
        {
          "output_type": "stream",
          "name": "stdout",
          "text": [
            "[1 2 3 4 5 6]\n"
          ]
        }
      ]
    },
    {
      "cell_type": "markdown",
      "source": [
        "10. create the following pattern without hardcoding use only numpy function and below input array a\n",
        "array([1,1,1,2,2,2,3,3,3,1,2,3,1,2,3,1,2,3])"
      ],
      "metadata": {
        "id": "DtfdlowBRrpg"
      }
    },
    {
      "cell_type": "code",
      "source": [
        "import numpy as np\n",
        "\n",
        "a = np.array([1, 1, 1, 2, 2, 2, 3, 3, 3])\n",
        "pattern = np.concatenate((np.repeat(a, 3), np.tile(np.array([1, 2, 3]), 3)))\n",
        "\n",
        "print(pattern)\n"
      ],
      "metadata": {
        "colab": {
          "base_uri": "https://localhost:8080/"
        },
        "id": "gPYACSEgRs9b",
        "outputId": "8ff06f7f-4471-4944-8e1b-5f2d19fc0332"
      },
      "execution_count": null,
      "outputs": [
        {
          "output_type": "stream",
          "name": "stdout",
          "text": [
            "[1 1 1 1 1 1 1 1 1 2 2 2 2 2 2 2 2 2 3 3 3 3 3 3 3 3 3 1 2 3 1 2 3 1 2 3]\n"
          ]
        }
      ]
    }
  ]
}