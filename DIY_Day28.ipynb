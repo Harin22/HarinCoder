{
  "nbformat": 4,
  "nbformat_minor": 0,
  "metadata": {
    "colab": {
      "provenance": [],
      "authorship_tag": "ABX9TyPylwQmc9K2qu9MlcDcftFp",
      "include_colab_link": true
    },
    "kernelspec": {
      "name": "python3",
      "display_name": "Python 3"
    },
    "language_info": {
      "name": "python"
    }
  },
  "cells": [
    {
      "cell_type": "markdown",
      "metadata": {
        "id": "view-in-github",
        "colab_type": "text"
      },
      "source": [
        "<a href=\"https://colab.research.google.com/github/HarinCoder/HarinCoder/blob/main/DIY_Day28.ipynb\" target=\"_parent\"><img src=\"https://colab.research.google.com/assets/colab-badge.svg\" alt=\"Open In Colab\"/></a>"
      ]
    },
    {
      "cell_type": "markdown",
      "source": [
        "1. Problem Statement:\n",
        "\n",
        "Statistical Hypothesis TestingA company  claims  that  its  employees  earn  approximately  5LPA  on  average.  A random sample of 50 employees was taken, and it turned out to have a mean of 2 LPA. Perform hypothesis testing for the given claim having a population mean of 5 LPA with a standard deviation of 3"
      ],
      "metadata": {
        "id": "TWTq6qscnqot"
      }
    },
    {
      "cell_type": "code",
      "execution_count": 1,
      "metadata": {
        "colab": {
          "base_uri": "https://localhost:8080/"
        },
        "id": "54rx6xoUmMof",
        "outputId": "79443a0d-65d5-4a1e-817d-f2edcab70b72"
      },
      "outputs": [
        {
          "output_type": "stream",
          "name": "stdout",
          "text": [
            "u and l value is : 5 4\n",
            "we ar accepting hypothesis\n"
          ]
        }
      ],
      "source": [
        "import math as mt\n",
        "\n",
        "total_mean=5\n",
        "sample_mean=5\n",
        "standard_deviation=3\n",
        "sample_size=50\n",
        "\n",
        "a=1.96\n",
        "error=standard_deviation/mt.sqrt(sample_size)\n",
        "upper_value=int(total_mean+(a*error))\n",
        "lower_value=int(total_mean-(a*error))\n",
        "\n",
        "print('u and l value is :',upper_value,lower_value)\n",
        "if(upper_value<sample_mean or sample_mean<lower_value):\n",
        "    print('we are rejacting null hypothises and accepting alternative hypotises')\n",
        "else:\n",
        "      print('we ar accepting hypothesis')"
      ]
    },
    {
      "cell_type": "markdown",
      "source": [
        "2. Problem Statement: Statistical Hypothesis TestingA  Tyre  manufacturing  company  claims  that  their  original  Tyres  run  for  about 50,000 km before replacing them. A random sample of 100 tyres was taken, and it turned out that the average life of the sample was about 48,000 Km.To find out whether the company said the truth or lie, based on standard deviations as 1500"
      ],
      "metadata": {
        "id": "_-1GIaDqodCq"
      }
    },
    {
      "cell_type": "code",
      "source": [
        "import math as mt\n",
        "\n",
        "total_mean=5000\n",
        "sample_mean=48000\n",
        "standard_deviation=1500\n",
        "sample_size=100\n",
        "\n",
        "a=1.96\n",
        "error=standard_deviation/mt.sqrt(sample_size)\n",
        "\n",
        "\n",
        "upper_value=int(total_mean+(a*error))\n",
        "lower_value=int(total_mean-(a*error))\n",
        "print('u and l value is :',upper_value,lower_value)\n",
        "\n",
        "if(upper_value<sample_mean or sample_mean<lower_value):\n",
        "    print('we are rejacting null hypothises and accepting alternative hypotises')\n",
        "else:\n",
        "      print('we ar accepting hypothesis')"
      ],
      "metadata": {
        "colab": {
          "base_uri": "https://localhost:8080/"
        },
        "id": "35Ydq5ugok2y",
        "outputId": "fc347bbd-9ae0-4b1d-9d34-cac1fd90b959"
      },
      "execution_count": 2,
      "outputs": [
        {
          "output_type": "stream",
          "name": "stdout",
          "text": [
            "u and l value is : 5294 4706\n",
            "we are rejacting null hypothises and accepting alternative hypotises\n"
          ]
        }
      ]
    }
  ]
}