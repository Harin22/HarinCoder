{
  "cells": [
    {
      "cell_type": "markdown",
      "metadata": {
        "id": "view-in-github",
        "colab_type": "text"
      },
      "source": [
        "<a href=\"https://colab.research.google.com/github/HarinCoder/HarinCoder/blob/main/numpy_pandas.ipynb\" target=\"_parent\"><img src=\"https://colab.research.google.com/assets/colab-badge.svg\" alt=\"Open In Colab\"/></a>"
      ]
    },
    {
      "cell_type": "markdown",
      "metadata": {
        "id": "Lqp7I5d2P5Gx"
      },
      "source": [
        "Concatenate array : multiple arrays are merged to form new array that contain all array\n"
      ]
    },
    {
      "cell_type": "code",
      "execution_count": null,
      "metadata": {
        "colab": {
          "base_uri": "https://localhost:8080/"
        },
        "id": "KLESLTrWP5oM",
        "outputId": "a4b1a30d-25af-4595-d11c-83ad46a64d0e"
      },
      "outputs": [
        {
          "name": "stdout",
          "output_type": "stream",
          "text": [
            "[1 2 3 4 5 6]\n"
          ]
        }
      ],
      "source": [
        "import numpy as np\n",
        "\n",
        "a = np.array([[1,2],[3,4]])\n",
        "b = np.array([5,6])\n",
        "\n",
        "c = np.concatenate((a,b), axis = None)\n",
        "\n",
        "print(c)"
      ]
    },
    {
      "cell_type": "markdown",
      "metadata": {
        "id": "St_X7mrkVarw"
      },
      "source": [
        "stack and colum stack"
      ]
    },
    {
      "cell_type": "code",
      "execution_count": null,
      "metadata": {
        "colab": {
          "base_uri": "https://localhost:8080/"
        },
        "id": "len3oCQXVpia",
        "outputId": "f8ffa6b3-10a1-4791-b717-f9e4b13e0f92"
      },
      "outputs": [
        {
          "name": "stdout",
          "output_type": "stream",
          "text": [
            "[[1 5]\n",
            " [2 6]\n",
            " [3 7]]\n"
          ]
        }
      ],
      "source": [
        "import numpy as np\n",
        "\n",
        "a = np.array([1,2,3])\n",
        "b = np.array([5,6,7])\n",
        "\n",
        "c = np.stack((a,b))\n",
        "#---\n",
        "d = np.array([1,2,3])\n",
        "e = np.array([5,6,7])\n",
        "\n",
        "f = np.column_stack((d,e))\n",
        "print(f)\n",
        "\n",
        "#size of the arrays must be equal"
      ]
    },
    {
      "cell_type": "markdown",
      "metadata": {
        "id": "_fe5xMiGWzKF"
      },
      "source": [
        "hstack: add second array to column of first array and vstack: "
      ]
    },
    {
      "cell_type": "code",
      "execution_count": null,
      "metadata": {
        "colab": {
          "base_uri": "https://localhost:8080/"
        },
        "id": "QjjhcKfpW80F",
        "outputId": "b33052fd-8091-4a2c-8ee3-7811a0486606"
      },
      "outputs": [
        {
          "name": "stdout",
          "output_type": "stream",
          "text": [
            "[1 2 3 5 6 7]\n"
          ]
        }
      ],
      "source": [
        "a = np.array([1,2,3])\n",
        "b = np.array([5,6,7])\n",
        "\n",
        "i = np.hstack((a,b))           .vstack(())\n",
        "print(i)"
      ]
    },
    {
      "cell_type": "markdown",
      "metadata": {
        "id": "wu67vbHVX6Gn"
      },
      "source": [
        "splitting arrays - split(), hsplit(), vsplit()"
      ]
    },
    {
      "cell_type": "code",
      "execution_count": null,
      "metadata": {
        "colab": {
          "base_uri": "https://localhost:8080/"
        },
        "id": "LApS8xZ4YHlD",
        "outputId": "cc692ece-4775-423c-8dd2-96ec9832d625"
      },
      "outputs": [
        {
          "name": "stdout",
          "output_type": "stream",
          "text": [
            "[array([0, 1, 2, 3]), array([4, 5, 6, 7]), array([ 8,  9, 10, 11])]\n"
          ]
        }
      ],
      "source": [
        "import numpy as np\n",
        "\n",
        "x = np.arange(12)\n",
        "y = np.split(x,3)\n",
        "print(y)\n",
        "\n",
        "#split into multiple sub array"
      ]
    },
    {
      "cell_type": "code",
      "execution_count": null,
      "metadata": {
        "colab": {
          "base_uri": "https://localhost:8080/"
        },
        "id": "hXRsAqK1Yhyu",
        "outputId": "f1b5a9e7-c2a4-4910-d510-72f7c3cc7947"
      },
      "outputs": [
        {
          "name": "stdout",
          "output_type": "stream",
          "text": [
            "[[ 0  1  2  3]\n",
            " [ 4  5  6  7]\n",
            " [ 8  9 10 11]\n",
            " [12 13 14 15]]\n",
            "b:  [[ 0  1]\n",
            " [ 4  5]\n",
            " [ 8  9]\n",
            " [12 13]]\n",
            "c:  [[ 2  3]\n",
            " [ 6  7]\n",
            " [10 11]\n",
            " [14 15]]\n"
          ]
        }
      ],
      "source": [
        "import numpy as np\n",
        "\n",
        "a = np.arange(16).reshape(4,4)\n",
        "print(a)\n",
        "[b,c] = np.hsplit(a,2)\n",
        "print(\"b: \", b)\n",
        "print(\"c: \",c)\n",
        "\n",
        "#[b,c] = np"
      ]
    },
    {
      "cell_type": "code",
      "execution_count": null,
      "metadata": {
        "colab": {
          "base_uri": "https://localhost:8080/"
        },
        "id": "0mLgvmUVZtQl",
        "outputId": "4f9f2a56-0685-4ee0-8171-0d5eafca9c5a"
      },
      "outputs": [
        {
          "name": "stdout",
          "output_type": "stream",
          "text": [
            "[[ 0  1  2  3]\n",
            " [ 4  5  6  7]\n",
            " [ 8  9 10 11]\n",
            " [12 13 14 15]]\n",
            "b:  [[0 1 2 3]\n",
            " [4 5 6 7]]\n",
            "c:  [[ 8  9 10 11]\n",
            " [12 13 14 15]]\n"
          ]
        }
      ],
      "source": [
        "import numpy as np\n",
        "\n",
        "a = np.arange(16).reshape(4,4)\n",
        "print(a)\n",
        "[b,c] = np.vsplit(a,2)\n",
        "print(\"b: \", b)\n",
        "print(\"c: \",c)\n"
      ]
    },
    {
      "cell_type": "code",
      "execution_count": null,
      "metadata": {
        "colab": {
          "background_save": true
        },
        "id": "8EbvVUExcUy6"
      },
      "outputs": [],
      "source": [
        "\n",
        "j = np.arange(10)\n",
        "i = np.split(x,)\n",
        "\n",
        "print(np.split(i,2))"
      ]
    },
    {
      "cell_type": "markdown",
      "source": [
        "Raval array"
      ],
      "metadata": {
        "id": "lZyvKM1QwOu3"
      }
    },
    {
      "cell_type": "code",
      "source": [
        "import numpy as numpy\n",
        "\n",
        "a = np.arange(20).reshape(4,5)\n",
        "print(a)\n",
        "b = a.T\n",
        "print(b)\n",
        "c = b.ravel()\n",
        "print(c)"
      ],
      "metadata": {
        "colab": {
          "base_uri": "https://localhost:8080/"
        },
        "id": "Xk5__6x2wRAx",
        "outputId": "a85c6232-755e-4a6a-b21d-f1547487c61b"
      },
      "execution_count": null,
      "outputs": [
        {
          "output_type": "stream",
          "name": "stdout",
          "text": [
            "[[ 0  1  2  3  4]\n",
            " [ 5  6  7  8  9]\n",
            " [10 11 12 13 14]\n",
            " [15 16 17 18 19]]\n",
            "[[ 0  5 10 15]\n",
            " [ 1  6 11 16]\n",
            " [ 2  7 12 17]\n",
            " [ 3  8 13 18]\n",
            " [ 4  9 14 19]]\n",
            "[ 0  5 10 15  1  6 11 16  2  7 12 17  3  8 13 18  4  9 14 19]\n"
          ]
        }
      ]
    },
    {
      "cell_type": "markdown",
      "source": [
        "Pandas creating data frame"
      ],
      "metadata": {
        "id": "VD6wsUJMqDAl"
      }
    },
    {
      "cell_type": "code",
      "source": [
        "import numpy as np\n",
        "import pandas as pd\n",
        "\n",
        "#creating dataframe from list\n",
        "\n",
        "i = ['a','b','c','d','e']\n",
        "j = pd.DataFrame(i)\n",
        "print(j)\n",
        "\n",
        "\n",
        "#craeting dataframe from dict\n",
        "\n",
        "a = [{\"a\": 1, \"b\":2, \"c\":3}]\n",
        "b = pd.DataFrame(a, index = [\"first\",\"second\",\"third\"])\n",
        "print(b)"
      ],
      "metadata": {
        "colab": {
          "base_uri": "https://localhost:8080/"
        },
        "id": "WfGD3phhqJKp",
        "outputId": "921d6ed0-318a-4a7b-938a-804a5a0d3d8f"
      },
      "execution_count": null,
      "outputs": [
        {
          "output_type": "stream",
          "name": "stdout",
          "text": [
            "   0\n",
            "0  a\n",
            "1  b\n",
            "2  c\n",
            "3  d\n",
            "4  e\n",
            "        a  b  c\n",
            "first   1  2  3\n",
            "second  1  2  3\n",
            "third   1  2  3\n"
          ]
        }
      ]
    },
    {
      "cell_type": "markdown",
      "source": [
        "Representing feathures of data"
      ],
      "metadata": {
        "id": "vfJ2BC_t1vhW"
      }
    },
    {
      "cell_type": "code",
      "source": [
        "import pandas as pd\n",
        "\n",
        "i = pd.Series([19,24,36], index= [\"small\",\"medium\",\"large\"])\n",
        "print(i)\n",
        "\n",
        "j = i.index\n",
        "k = i.values\n",
        "print(k)"
      ],
      "metadata": {
        "colab": {
          "base_uri": "https://localhost:8080/"
        },
        "id": "i5mOLIuL11t-",
        "outputId": "14f86d3d-8745-48f2-ee2f-5c56a28443c2"
      },
      "execution_count": null,
      "outputs": [
        {
          "output_type": "stream",
          "name": "stdout",
          "text": [
            "small     19\n",
            "medium    24\n",
            "large     36\n",
            "dtype: int64\n",
            "[19 24 36]\n"
          ]
        }
      ]
    },
    {
      "cell_type": "code",
      "source": [
        "import pandas as pd\n",
        "\n",
        "x = [1,2,3]\n",
        "i = pd.Series(x)\n",
        "j  = pd.Series(x, index= ['a','b','c'])\n",
        "k = (\"the third element is \", x[2])\n",
        "l = (\"the first two elements are \", x[1:])\n",
        "m = (\"the element having index B is \",j[\"b\"])\n",
        "\n",
        "print(i)\n",
        "print(j)\n",
        "print(k)\n",
        "print(l)\n",
        "print(m)\n",
        "\n",
        "\n",
        "\n"
      ],
      "metadata": {
        "colab": {
          "base_uri": "https://localhost:8080/"
        },
        "id": "gr01D-ls5kS7",
        "outputId": "020a868f-9257-4c4d-a889-15cee6bf61de"
      },
      "execution_count": null,
      "outputs": [
        {
          "output_type": "stream",
          "name": "stdout",
          "text": [
            "0    1\n",
            "1    2\n",
            "2    3\n",
            "dtype: int64\n",
            "a    1\n",
            "b    2\n",
            "c    3\n",
            "dtype: int64\n",
            "('the third element is ', 3)\n",
            "('the first two elements are ', [2, 3])\n",
            "('the element having index B is ', 2)\n"
          ]
        }
      ]
    },
    {
      "cell_type": "code",
      "source": [
        "import pandas as pd\n",
        "\n",
        "s = pd.Series(['amit','bob','kate','a','b','car','dog','cat'])\n",
        "print(s.str.lower())\n",
        "print(s.str.upper())\n",
        "print(s.str.len())\n"
      ],
      "metadata": {
        "colab": {
          "base_uri": "https://localhost:8080/"
        },
        "id": "JPzFaq6e9k8z",
        "outputId": "2d2b2bfd-af2f-4bc3-ceb5-201161c237e8"
      },
      "execution_count": null,
      "outputs": [
        {
          "output_type": "stream",
          "name": "stdout",
          "text": [
            "0    amit\n",
            "1     bob\n",
            "2    kate\n",
            "3       a\n",
            "4       b\n",
            "5     car\n",
            "6     dog\n",
            "7     cat\n",
            "dtype: object\n",
            "0    AMIT\n",
            "1     BOB\n",
            "2    KATE\n",
            "3       A\n",
            "4       B\n",
            "5     CAR\n",
            "6     DOG\n",
            "7     CAT\n",
            "dtype: object\n",
            "0    4\n",
            "1    3\n",
            "2    4\n",
            "3    1\n",
            "4    1\n",
            "5    3\n",
            "6    3\n",
            "7    3\n",
            "dtype: int64\n"
          ]
        }
      ]
    },
    {
      "cell_type": "markdown",
      "source": [
        "Combain data using pandas"
      ],
      "metadata": {
        "id": "egPxf_SyTph-"
      }
    },
    {
      "cell_type": "code",
      "source": [
        "import pandas as pd\n",
        "import numpy as np\n",
        "\n",
        "np.random.seed()\n",
        "i = np.random.randint(1,100,(4,3))\n",
        "print(i)\n",
        "df = pd.DataFrame(i, columns = list(\"abc\"), index = list(\"wxyz\"))\n",
        "print(df)\n",
        "\n",
        "\n"
      ],
      "metadata": {
        "colab": {
          "base_uri": "https://localhost:8080/"
        },
        "id": "h-OewFpGTuE5",
        "outputId": "6122fb92-0c97-413b-e449-394717594d1b"
      },
      "execution_count": null,
      "outputs": [
        {
          "output_type": "stream",
          "name": "stdout",
          "text": [
            "[[17 92 74]\n",
            " [28 89 38]\n",
            " [28 16  4]\n",
            " [72 63 91]]\n",
            "    a   b   c\n",
            "w  17  92  74\n",
            "x  28  89  38\n",
            "y  28  16   4\n",
            "z  72  63  91\n"
          ]
        }
      ]
    },
    {
      "cell_type": "code",
      "source": [],
      "metadata": {
        "id": "SqvebzXRievi"
      },
      "execution_count": null,
      "outputs": []
    }
  ],
  "metadata": {
    "colab": {
      "provenance": [],
      "authorship_tag": "ABX9TyOr9JHTXsaRDhoEqBizvdPr",
      "include_colab_link": true
    },
    "kernelspec": {
      "display_name": "Python 3",
      "name": "python3"
    },
    "language_info": {
      "name": "python"
    }
  },
  "nbformat": 4,
  "nbformat_minor": 0
}