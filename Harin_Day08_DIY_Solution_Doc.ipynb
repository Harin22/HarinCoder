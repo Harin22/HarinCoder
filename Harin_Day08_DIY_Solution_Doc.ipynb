{
  "nbformat": 4,
  "nbformat_minor": 0,
  "metadata": {
    "colab": {
      "provenance": [],
      "authorship_tag": "ABX9TyN3qfSfeYxHtRoLUmtq5F9w",
      "include_colab_link": true
    },
    "kernelspec": {
      "name": "python3",
      "display_name": "Python 3"
    },
    "language_info": {
      "name": "python"
    }
  },
  "cells": [
    {
      "cell_type": "markdown",
      "metadata": {
        "id": "view-in-github",
        "colab_type": "text"
      },
      "source": [
        "<a href=\"https://colab.research.google.com/github/HarinCoder/HarinCoder/blob/main/Harin_Day08_DIY_Solution_Doc.ipynb\" target=\"_parent\"><img src=\"https://colab.research.google.com/assets/colab-badge.svg\" alt=\"Open In Colab\"/></a>"
      ]
    },
    {
      "cell_type": "markdown",
      "source": [
        "Define a NumPy array with 4*5 dimensions, and swap the array's dimensions to make it 5*4 using suitable functions."
      ],
      "metadata": {
        "id": "4agvV_ysnaZN"
      }
    },
    {
      "cell_type": "code",
      "execution_count": null,
      "metadata": {
        "colab": {
          "base_uri": "https://localhost:8080/"
        },
        "id": "WC_2JvoUhSy9",
        "outputId": "9c522fe8-46ee-467d-ec44-7136c28e38b2"
      },
      "outputs": [
        {
          "output_type": "stream",
          "name": "stdout",
          "text": [
            "original array [ 0  1  2  3  4  5  6  7  8  9 10 11 12 13 14 15 16 17 18 19]\n",
            "reshape array [[ 0  1  2  3  4]\n",
            " [ 5  6  7  8  9]\n",
            " [10 11 12 13 14]\n",
            " [15 16 17 18 19]]\n",
            "transpose array: [[ 0  5 10 15]\n",
            " [ 1  6 11 16]\n",
            " [ 2  7 12 17]\n",
            " [ 3  8 13 18]\n",
            " [ 4  9 14 19]]\n"
          ]
        }
      ],
      "source": [
        "import numpy as np\n",
        "\n",
        "a = np.arange(20)\n",
        "print(\"original array\", a)\n",
        "\n",
        "c = np.arange(20).reshape(4,5)\n",
        "print(\"reshape array\", c)\n",
        "\n",
        "b = c.T\n",
        "print(\"transpose array:\", b)"
      ]
    },
    {
      "cell_type": "markdown",
      "source": [
        "Write   a   Python   program   to   create   two   2-dimensional   arrays   and   applyhstack(), vstack(), concatenate(), and split()functions to them to get the output as shown below"
      ],
      "metadata": {
        "id": "ucaUutxirhVB"
      }
    },
    {
      "cell_type": "code",
      "source": [
        "import numpy as np\n",
        "\n",
        "a = np.array([[1,2],[3,4]])\n",
        "print(\"first array\")\n",
        "print(a)\n",
        "\n",
        "b = np. array([[6,7],[8,9]])\n",
        "print(\"second array\")\n",
        "print(b)\n",
        "\n",
        "c = np.hstack((a,b))\n",
        "print(\"applying hstacking\")\n",
        "print(c)\n",
        "\n",
        "d = np.vstack((a,b))\n",
        "print(\"applting vstacking\")\n",
        "print(d)\n",
        "\n",
        "e = np.concatenate((a,b), axis = None)\n",
        "print(\"applying concatenate function() \")\n",
        "print(e)\n",
        "\n",
        "f = np.split(e,2)\n",
        "print(\"applying split function()\")\n",
        "print(f)"
      ],
      "metadata": {
        "colab": {
          "base_uri": "https://localhost:8080/"
        },
        "id": "Kk0_k2O9rma8",
        "outputId": "060ea9bc-9a79-4c5e-8265-a524e09e427e"
      },
      "execution_count": null,
      "outputs": [
        {
          "output_type": "stream",
          "name": "stdout",
          "text": [
            "first array\n",
            "[[1 2]\n",
            " [3 4]]\n",
            "second array\n",
            "[[6 7]\n",
            " [8 9]]\n",
            "applying hstacking\n",
            "[[1 2 6 7]\n",
            " [3 4 8 9]]\n",
            "applting vstacking\n",
            "[[1 2]\n",
            " [3 4]\n",
            " [6 7]\n",
            " [8 9]]\n",
            "applying concatenate function() \n",
            "[1 2 3 4 6 7 8 9]\n",
            "applying split function()\n",
            "[array([1, 2, 3, 4]), array([6, 7, 8, 9])]\n"
          ]
        }
      ]
    }
  ]
}